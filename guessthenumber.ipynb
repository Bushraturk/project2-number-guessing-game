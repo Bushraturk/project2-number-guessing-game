{
  "nbformat": 4,
  "nbformat_minor": 0,
  "metadata": {
    "colab": {
      "provenance": [],
      "authorship_tag": "ABX9TyONh1FapR8mUBXUY+B3qBhU",
      "include_colab_link": true
    },
    "kernelspec": {
      "name": "python3",
      "display_name": "Python 3"
    },
    "language_info": {
      "name": "python"
    }
  },
  "cells": [
    {
      "cell_type": "markdown",
      "metadata": {
        "id": "view-in-github",
        "colab_type": "text"
      },
      "source": [
        "<a href=\"https://colab.research.google.com/github/Bushraturk/project2-number-guessing-game/blob/main/guessthenumber.ipynb\" target=\"_parent\"><img src=\"https://colab.research.google.com/assets/colab-badge.svg\" alt=\"Open In Colab\"/></a>"
      ]
    },
    {
      "cell_type": "markdown",
      "source": [
        "# Project 2: Guess The Number Game"
      ],
      "metadata": {
        "id": "kzL7MsTuhotV"
      }
    },
    {
      "cell_type": "markdown",
      "source": [
        "**1 too 100 numbers**\n"
      ],
      "metadata": {
        "id": "MIWB3LBkh4tk"
      }
    },
    {
      "cell_type": "code",
      "source": [
        "import random\n",
        "\n",
        "def guess_the_number():\n",
        "    \"\"\"Project 2: Guess The Number Game by Computer\"\"\"\n",
        "    number = random.randint(1, 100)\n",
        "    guesses_left = 5\n",
        "\n",
        "    # Welcome message\n",
        "    print(\"Welcome to the Number Guessing Game!\")\n",
        "    print(\"I'm thinking of a number between 1 and 100.\")\n",
        "    print(\"You have 5 guesses to guess the number.\")\n",
        "\n",
        "    # Loop for guessing\n",
        "    while guesses_left > 0:\n",
        "        try:\n",
        "            guess = int(input(f\"\\nYou have {guesses_left} guesses left. Take a guess: \"))\n",
        "        except ValueError:\n",
        "            print(\"Invalid input: Please enter a number.\")\n",
        "            continue\n",
        "\n",
        "        # Checking the guessed number\n",
        "        if guess < number:\n",
        "            print(\"Too low! Try again.\")\n",
        "        elif guess > number:\n",
        "            print(\"Too high! Try again.\")\n",
        "        else:\n",
        "            print(f\"🎉 Congratulations! You guessed the correct number in {5 - guesses_left + 1} tries.\")\n",
        "            return  # Exit the function if the guess is correct\n",
        "\n",
        "        guesses_left -= 1  # Reduce the guess count\n",
        "\n",
        "    # If the player runs out of guesses\n",
        "    print(f\"\\nYou ran out of guesses. The correct number was {number}. Better luck next time!\")\n",
        "\n",
        "# Run the game\n",
        "guess_the_number()\n"
      ],
      "metadata": {
        "colab": {
          "base_uri": "https://localhost:8080/"
        },
        "id": "Hk-X3cZprrc5",
        "outputId": "e6405bc7-41ce-47e9-8580-5e589b241742"
      },
      "execution_count": null,
      "outputs": [
        {
          "output_type": "stream",
          "name": "stdout",
          "text": [
            "Welcome to the Number Guessing Game!\n",
            "I'm thinking of a number between 1 and 100.\n",
            "You have 5 guesses to guess the number.\n",
            "\n",
            "You have 5 guesses left. Take a guess: 27\n",
            "Too low! Try again.\n",
            "\n",
            "You have 4 guesses left. Take a guess: 78\n",
            "Too low! Try again.\n",
            "\n",
            "You have 3 guesses left. Take a guess: 27\n",
            "Too low! Try again.\n",
            "\n",
            "You have 2 guesses left. Take a guess: 50\n",
            "Too low! Try again.\n",
            "\n",
            "You have 1 guesses left. Take a guess: 68\n",
            "Too low! Try again.\n",
            "\n",
            "You ran out of guesses. The correct number was 86. Better luck next time!\n"
          ]
        }
      ]
    }
  ]
}